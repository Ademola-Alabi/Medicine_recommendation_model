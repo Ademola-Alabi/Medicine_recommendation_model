{
 "cells": [
  {
   "cell_type": "code",
   "execution_count": 1,
   "id": "8f562ab2-6144-41ea-a6db-cf27433f77d5",
   "metadata": {},
   "outputs": [],
   "source": [
    "import pandas as pd\n",
    "from sklearn.feature_extraction.text import TfidfVectorizer\n",
    "from sklearn.metrics.pairwise import cosine_similarity\n",
    "import joblib"
   ]
  },
  {
   "cell_type": "code",
   "execution_count": 2,
   "id": "5b331c93-1870-4e55-9865-898cfb5de02e",
   "metadata": {},
   "outputs": [],
   "source": [
    "# Step 1: Load the dataset\n",
    "file_path = 'Medicine_Details.csv'  # Update with your file path\n",
    "medicine_data = pd.read_csv(file_path)"
   ]
  },
  {
   "cell_type": "code",
   "execution_count": 3,
   "id": "e0059df4-d3c3-4fe6-a89f-ea113518e1ea",
   "metadata": {},
   "outputs": [],
   "source": [
    "# Step 2: Data Preprocessing - Combine text fields for recommendation\n",
    "medicine_data['combined_features'] = medicine_data['Composition'] + \" \" + medicine_data['Uses'] + \" \" + medicine_data['Side_effects']\n"
   ]
  },
  {
   "cell_type": "code",
   "execution_count": 4,
   "id": "3587a565-6724-4c29-a32d-f7e554fa4f47",
   "metadata": {},
   "outputs": [],
   "source": [
    "# Step 3: Vectorization - Initialize the TF-IDF Vectorizer\n",
    "tfidf_vectorizer = TfidfVectorizer(stop_words='english')"
   ]
  },
  {
   "cell_type": "code",
   "execution_count": 6,
   "id": "9ab51693-6c23-48b6-8d7b-88d48617a214",
   "metadata": {},
   "outputs": [],
   "source": [
    " #Fit and transform the combined features into a TF-IDF matrix\n",
    "tfidf_matrix = tfidf_vectorizer.fit_transform(medicine_data['combined_features'])"
   ]
  },
  {
   "cell_type": "code",
   "execution_count": 7,
   "id": "1bf5cc83-a7db-4028-8928-fd84d14be05b",
   "metadata": {},
   "outputs": [],
   "source": [
    "# Step 4: Similarity Calculation - Compute the cosine similarity matrix\n",
    "cosine_sim = cosine_similarity(tfidf_matrix, tfidf_matrix)"
   ]
  },
  {
   "cell_type": "code",
   "execution_count": 8,
   "id": "246307e2-53cf-4cb3-bd22-32239e3d2f12",
   "metadata": {},
   "outputs": [
    {
     "data": {
      "text/plain": [
       "['tfidf_vectorizer.pkl']"
      ]
     },
     "execution_count": 8,
     "metadata": {},
     "output_type": "execute_result"
    }
   ],
   "source": [
    "# Step 5: Save the model components\n",
    "# Save the TF-IDF Vectorizer\n",
    "tfidf_vectorizer_filename = 'tfidf_vectorizer.pkl'\n",
    "joblib.dump(tfidf_vectorizer, tfidf_vectorizer_filename)"
   ]
  },
  {
   "cell_type": "code",
   "execution_count": 9,
   "id": "64ff085d-d829-46e2-8f51-b66768948635",
   "metadata": {},
   "outputs": [
    {
     "data": {
      "text/plain": [
       "['cosine_similarity.pkl']"
      ]
     },
     "execution_count": 9,
     "metadata": {},
     "output_type": "execute_result"
    }
   ],
   "source": [
    "# Save the cosine similarity matrix\n",
    "cosine_similarity_filename = 'cosine_similarity.pkl'\n",
    "joblib.dump(cosine_sim, cosine_similarity_filename)"
   ]
  },
  {
   "cell_type": "code",
   "execution_count": 10,
   "id": "35b3044a-2db9-4e5f-839d-d4fd5884e858",
   "metadata": {},
   "outputs": [
    {
     "data": {
      "text/plain": [
       "['medicine_data.pkl']"
      ]
     },
     "execution_count": 10,
     "metadata": {},
     "output_type": "execute_result"
    }
   ],
   "source": [
    "# Save the medicine data (for future use in recommendations)\n",
    "medicine_data_filename = 'medicine_data.pkl'\n",
    "joblib.dump(medicine_data, medicine_data_filename)"
   ]
  },
  {
   "cell_type": "code",
   "execution_count": 11,
   "id": "0a13bf83-6f41-4e16-a4b8-c9b38bd74397",
   "metadata": {},
   "outputs": [],
   "source": [
    "# Function to get recommendations\n",
    "def get_recommendations(medicine_name, cosine_sim=cosine_sim):\n",
    "    # Get the index of the medicine that matches the name\n",
    "    idx = medicine_data[medicine_data['Medicine Name'] == medicine_name].index[0]\n",
    "\n",
    "    # Get the pairwise similarity scores of all medicines with that medicine\n",
    "    sim_scores = list(enumerate(cosine_sim[idx]))\n",
    "\n",
    "    # Sort the medicines based on the similarity scores\n",
    "    sim_scores = sorted(sim_scores, key=lambda x: x[1], reverse=True)\n",
    "\n",
    "    # Get the indices of the 5 most similar medicines (excluding itself)\n",
    "    sim_scores = sim_scores[1:6]\n",
    "\n",
    "    # Get the medicine names and return them\n",
    "    medicine_indices = [i[0] for i in sim_scores]\n",
    "    return medicine_data['Medicine Name'].iloc[medicine_indices]"
   ]
  },
  {
   "cell_type": "code",
   "execution_count": 12,
   "id": "d201d274-a83e-4db1-951a-c6fb1e29b04f",
   "metadata": {},
   "outputs": [],
   "source": [
    "# Example: Get recommendations for a specific medicine\n",
    "recommended_medicines = get_recommendations('Avastin 400mg Injection')"
   ]
  },
  {
   "cell_type": "code",
   "execution_count": 13,
   "id": "3cc42aa5-217a-41e2-9e70-c415091a2ceb",
   "metadata": {},
   "outputs": [
    {
     "name": "stdout",
     "output_type": "stream",
     "text": [
      "Recommended medicines similar to 'Avastin 400mg Injection':\n",
      "3289     Gemtaz 1gm Injection\n",
      "1740       Erlocip 100 Tablet\n",
      "1739       Erlocip 150 Tablet\n",
      "11749     Zyceva 150mg Tablet\n",
      "11303     Xeloda 500mg Tablet\n",
      "Name: Medicine Name, dtype: object\n"
     ]
    }
   ],
   "source": [
    "# Print the recommended medicines\n",
    "print(\"Recommended medicines similar to 'Avastin 400mg Injection':\")\n",
    "print(recommended_medicines)"
   ]
  },
  {
   "cell_type": "code",
   "execution_count": 14,
   "id": "0e601b11-5ffc-459f-8947-77400edea74e",
   "metadata": {},
   "outputs": [],
   "source": [
    "# -------------------\n",
    "# Step 6: Loading the saved model components (for future use)\n",
    "# Load the TF-IDF Vectorizer\n",
    "loaded_tfidf_vectorizer = joblib.load('tfidf_vectorizer.pkl')"
   ]
  },
  {
   "cell_type": "code",
   "execution_count": 15,
   "id": "25d2d49f-059b-41e6-9be2-295fd951bb79",
   "metadata": {},
   "outputs": [],
   "source": [
    "# Load the cosine similarity matrix\n",
    "loaded_cosine_sim = joblib.load('cosine_similarity.pkl')"
   ]
  },
  {
   "cell_type": "code",
   "execution_count": 16,
   "id": "80540d01-bb34-4b90-a68c-1bdfa53ebe1c",
   "metadata": {},
   "outputs": [],
   "source": [
    "# Load the medicine data\n",
    "loaded_medicine_data = joblib.load('medicine_data.pkl')"
   ]
  },
  {
   "cell_type": "code",
   "execution_count": 17,
   "id": "491ba2ba-8833-4d3e-86a6-b377b49d9efd",
   "metadata": {},
   "outputs": [],
   "source": [
    "# Use the loaded components to make recommendations\n",
    "def get_loaded_recommendations(medicine_name, cosine_sim=loaded_cosine_sim):\n",
    "    idx = loaded_medicine_data[loaded_medicine_data['Medicine Name'] == medicine_name].index[0]\n",
    "    sim_scores = list(enumerate(cosine_sim[idx]))\n",
    "    sim_scores = sorted(sim_scores, key=lambda x: x[1], reverse=True)\n",
    "    sim_scores = sim_scores[1:6]\n",
    "    medicine_indices = [i[0] for i in sim_scores]\n",
    "    return loaded_medicine_data['Medicine Name'].iloc[medicine_indices]"
   ]
  },
  {
   "cell_type": "code",
   "execution_count": 19,
   "id": "06197160-a820-4049-bc05-870552ae97f3",
   "metadata": {},
   "outputs": [],
   "source": [
    " #Example with loaded model components\n",
    "loaded_recommended_medicines = get_loaded_recommendations('Avastin 400mg Injection')"
   ]
  },
  {
   "cell_type": "code",
   "execution_count": 20,
   "id": "863cb321-deee-40b8-9583-4d3c8a30bfbe",
   "metadata": {},
   "outputs": [
    {
     "name": "stdout",
     "output_type": "stream",
     "text": [
      "Recommended medicines (using loaded components) similar to 'Avastin 400mg Injection':\n",
      "3289     Gemtaz 1gm Injection\n",
      "1740       Erlocip 100 Tablet\n",
      "1739       Erlocip 150 Tablet\n",
      "11749     Zyceva 150mg Tablet\n",
      "11303     Xeloda 500mg Tablet\n",
      "Name: Medicine Name, dtype: object\n"
     ]
    }
   ],
   "source": [
    "print(\"Recommended medicines (using loaded components) similar to 'Avastin 400mg Injection':\")\n",
    "print(loaded_recommended_medicines)"
   ]
  },
  {
   "cell_type": "code",
   "execution_count": null,
   "id": "d03fd54f-e974-47a6-8859-89c221805d0a",
   "metadata": {},
   "outputs": [],
   "source": []
  }
 ],
 "metadata": {
  "kernelspec": {
   "display_name": "Python 3 (ipykernel)",
   "language": "python",
   "name": "python3"
  },
  "language_info": {
   "codemirror_mode": {
    "name": "ipython",
    "version": 3
   },
   "file_extension": ".py",
   "mimetype": "text/x-python",
   "name": "python",
   "nbconvert_exporter": "python",
   "pygments_lexer": "ipython3",
   "version": "3.11.7"
  }
 },
 "nbformat": 4,
 "nbformat_minor": 5
}
